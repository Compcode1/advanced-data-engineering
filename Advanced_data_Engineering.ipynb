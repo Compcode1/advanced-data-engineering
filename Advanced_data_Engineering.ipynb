{
 "cells": [
  {
   "cell_type": "markdown",
   "metadata": {},
   "source": [
    "## **Optimizing Laptop Inventory with Advanced Data Engineering Techniques for Cost and Time Efficiency**"
   ]
  },
  {
   "cell_type": "markdown",
   "metadata": {},
   "source": [
    "###  **Introduction**\n",
    "\n",
    "The main objective of this project is to demonstrate my ability to understand and implement advanced data engineering techniques to optimize both time and memory efficiency. Leveraging efficient data structures and algorithms is crucial for handling large datasets effectively and efficiently.\n",
    "\n",
    "The techniques I employed in this project include the use of dictionaries for fast lookups, sets for quick membership testing, and binary search for efficient range queries. These methods ensure that data retrieval and processing operations are performed swiftly, reducing overall computational time and memory usage.\n",
    "\n",
    "\n",
    "In today's data-driven world, time and memory efficiency are vital. Fast data processing enables quicker insights and decision-making, helping businesses stay competitive. Memory-efficient algorithms ensure large datasets are manageable, preventing system overloads. These optimizations are key to advancing data technologies and applications.\n",
    "\n",
    "I will work with a dataset from a fictitious online laptop store and build algorithms dedicated to efficient solutions for a few different business questions about our inventory. In order to do so, I will create a class that represents our inventory. The methods in that class will handle the queries and produce the results. This will include preprocessing the data to make those queries time and memory optimized. The dataset used for this project can be accessed at https://www.kaggle.com/datasets/muhammetvarl/laptop-price\n",
    ". (The IDs have been changed and the prices were converted to integers.)"
   ]
  },
  {
   "cell_type": "markdown",
   "metadata": {},
   "source": [
    "### **Loading and Inspecting the Dataset**\n",
    "\n",
    "In this section, I load the laptop inventory dataset from a CSV file and perform an initial inspection to understand its structure. The CSV file is read using Python's built-in csv module, which allows us to parse the file and convert it into a list of rows. I then extract the header to identify the columns and print the first five rows of the dataset to get a glimpse of the data."
   ]
  },
  {
   "cell_type": "code",
   "execution_count": 37,
   "metadata": {
    "scrolled": true
   },
   "outputs": [
    {
     "name": "stdout",
     "output_type": "stream",
     "text": [
      "['Id', 'Company', 'Product', 'TypeName', 'Inches', 'ScreenResolution', 'Cpu', 'Ram', 'Memory', 'Gpu', 'OpSys', 'Weight', 'Price']\n",
      "\n",
      "['6571244', 'Apple', 'MacBook Pro', 'Ultrabook', '13.3', 'IPS Panel Retina Display 2560x1600', 'Intel Core i5 2.3GHz', '8GB', '128GB SSD', 'Intel Iris Plus Graphics 640', 'macOS', '1.37kg', '1339']\n",
      "['7287764', 'Apple', 'Macbook Air', 'Ultrabook', '13.3', '1440x900', 'Intel Core i5 1.8GHz', '8GB', '128GB Flash Storage', 'Intel HD Graphics 6000', 'macOS', '1.34kg', '898']\n",
      "['3362737', 'HP', '250 G6', 'Notebook', '15.6', 'Full HD 1920x1080', 'Intel Core i5 7200U 2.5GHz', '8GB', '256GB SSD', 'Intel HD Graphics 620', 'No OS', '1.86kg', '575']\n",
      "['9722156', 'Apple', 'MacBook Pro', 'Ultrabook', '15.4', 'IPS Panel Retina Display 2880x1800', 'Intel Core i7 2.7GHz', '16GB', '512GB SSD', 'AMD Radeon Pro 455', 'macOS', '1.83kg', '2537']\n",
      "['8550527', 'Apple', 'MacBook Pro', 'Ultrabook', '13.3', 'IPS Panel Retina Display 2560x1600', 'Intel Core i5 3.1GHz', '8GB', '256GB SSD', 'Intel Iris Plus Graphics 650', 'macOS', '1.37kg', '1803']\n"
     ]
    }
   ],
   "source": [
    "import csv\n",
    "with open('laptops.csv')as file:\n",
    "    read_file = csv.reader(file)\n",
    "    rows = list(read_file)\n",
    "    header = rows[0]\n",
    "    rows = rows[1:]\n",
    "print(header)\n",
    "print()\n",
    "for i in range (5):\n",
    "    print(rows[i])"
   ]
  },
  {
   "cell_type": "markdown",
   "metadata": {},
   "source": [
    "###  **Creating and Initializing the Inventory Class**\n",
    "\n",
    "In this section, I define the Inventory class, which is responsible for reading and storing laptop inventory data from a CSV file. The __init__ method reads the data, extracts the header, and converts the price column to integers for efficient processing. This class forms the foundation for handling various inventory related queries efficiently. I will print out both the header and the number of rows in the dataset."
   ]
  },
  {
   "cell_type": "code",
   "execution_count": 38,
   "metadata": {},
   "outputs": [
    {
     "name": "stdout",
     "output_type": "stream",
     "text": [
      "['Id', 'Company', 'Product', 'TypeName', 'Inches', 'ScreenResolution', 'Cpu', 'Ram', 'Memory', 'Gpu', 'OpSys', 'Weight', 'Price']\n",
      "\n",
      "1303\n"
     ]
    }
   ],
   "source": [
    "class Inventory():\n",
    "    \n",
    "    def __init__(self, csv_filename):\n",
    "        with open(csv_filename)as file:   \n",
    "            read_file = csv.reader(file)\n",
    "            rows = list(read_file)\n",
    "        self.header = rows[0]\n",
    "        self.rows = rows[1:]\n",
    "        for row in self.rows:\n",
    "            row[-1] = int(row[-1])\n",
    "\n",
    "inventory = Inventory('laptops.csv')\n",
    "print(inventory.header)\n",
    "print()\n",
    "print(len(inventory.rows))\n",
    "    \n",
    "    \n",
    "        \n",
    "        \n",
    "    \n",
    "    "
   ]
  },
  {
   "cell_type": "markdown",
   "metadata": {},
   "source": [
    "### **Testing the Inventory Class and ID-based Lookup Method**\n",
    "\n",
    "In this section, I test the functionality of the Inventory class, specifically focusing on the get_laptop_from_id method. This method allows us to retrieve laptop details based on their unique ID. After initializing the Inventory class with the laptops.csv dataset, I test the get_laptop_from_id method with both a valid and an invalid laptop ID to ensure it works correctly.\n",
    "\n"
   ]
  },
  {
   "cell_type": "code",
   "execution_count": 39,
   "metadata": {},
   "outputs": [
    {
     "name": "stdout",
     "output_type": "stream",
     "text": [
      "['3362737', 'HP', '250 G6', 'Notebook', '15.6', 'Full HD 1920x1080', 'Intel Core i5 7200U 2.5GHz', '8GB', '256GB SSD', 'Intel HD Graphics 620', 'No OS', '1.86kg', 575]\n",
      "\n",
      "None\n"
     ]
    }
   ],
   "source": [
    "class Inventory():                    \n",
    "    \n",
    "    def __init__(self, csv_filename):\n",
    "        with open(csv_filename) as f: \n",
    "            reader = csv.reader(f)\n",
    "            rows = list(reader)\n",
    "        self.header = rows[0]        \n",
    "        self.rows = rows[1:]\n",
    "        for row in self.rows:              \n",
    "            row[-1] = int(row[-1])\n",
    "            \n",
    "    def get_laptop_from_id(self, laptop_id):   \n",
    "        for row in self.rows:                  \n",
    "            if row[0] == laptop_id:\n",
    "                return row\n",
    "        return None\n",
    "inventory = Inventory('laptops.csv')\n",
    "print(inventory.get_laptop_from_id('3362737'))\n",
    "print()\n",
    "print(inventory.get_laptop_from_id('3362736'))\n",
    "\n",
    "\n"
   ]
  },
  {
   "cell_type": "markdown",
   "metadata": {},
   "source": [
    "### **Enhancing the Inventory Class with Fast ID-based Lookup**\n",
    "\n",
    "In analysis of the the above formulated get_laptop_from_id method I derive a time Complexity O(R) resulting from  iteration through each row in the dataset to find a matching laptop ID. This method becomes slower as the number of rows increases. \n",
    "\n",
    "In this section, I enhance the Inventory class by adding a dictionary for faster ID-based lookups. The new get_laptop_from_id_fast method leverages a dictionary to store mappings of laptop IDs to their corresponding rows. This alteration reduces the time complexity to O(1), meaning the lookup time is constant and does not depend on the size of the dataset.\n",
    "\n",
    "The __init__ method is updated to create a dictionary that maps each laptop ID to its corresponding row. I implement the get_laptop_from_id_fast method, which uses this dictionary to quickly retrieve laptop details based on their unique ID, significantly improving the efficiency of ID-based lookups."
   ]
  },
  {
   "cell_type": "code",
   "execution_count": 40,
   "metadata": {},
   "outputs": [],
   "source": [
    "class Inventory():                    \n",
    "    \n",
    "    def __init__(self, csv_filename):\n",
    "        with open(csv_filename) as f: \n",
    "            reader = csv.reader(f)\n",
    "            rows = list(reader)\n",
    "        self.header = rows[0]        \n",
    "        self.rows = rows[1:]\n",
    "        for row in self.rows:              \n",
    "            row[-1] = int(row[-1])\n",
    "        self.id_to_row = {}\n",
    "        for row in self.rows:                       \n",
    "            self.id_to_row[row[0]] = row \n",
    "            \n",
    "    def get_laptop_from_id(self, laptop_id):   \n",
    "        for row in self.rows:                  \n",
    "            if row[0] == laptop_id:\n",
    "                return row\n",
    "        return None \n",
    "    \n",
    "    def get_laptop_from_id_fast(self, laptop_id):\n",
    "        if laptop_id in self.id_to_row:             \n",
    "            return self.id_to_row[laptop_id]\n",
    "        return None\n",
    "        \n",
    "                \n",
    "        "
   ]
  },
  {
   "cell_type": "markdown",
   "metadata": {},
   "source": [
    "### **Testing Fast ID-based Lookup**\n",
    "\n",
    "In this section, I test the functionality of the get_laptop_from_id_fast method to ensure it correctly retrieves laptop details based on their unique ID. After initializing the Inventory class with the laptops.csv dataset, I use the get_laptop_from_id_fast method to test both valid and invalid laptop IDs."
   ]
  },
  {
   "cell_type": "code",
   "execution_count": 41,
   "metadata": {},
   "outputs": [
    {
     "name": "stdout",
     "output_type": "stream",
     "text": [
      "['3362737', 'HP', '250 G6', 'Notebook', '15.6', 'Full HD 1920x1080', 'Intel Core i5 7200U 2.5GHz', '8GB', '256GB SSD', 'Intel HD Graphics 620', 'No OS', '1.86kg', 575]\n",
      "\n",
      "None\n"
     ]
    }
   ],
   "source": [
    "inventory = Inventory('laptops.csv')                \n",
    "print(inventory.get_laptop_from_id_fast('3362737'))\n",
    "print()\n",
    "print(inventory.get_laptop_from_id_fast('999999')) "
   ]
  },
  {
   "cell_type": "markdown",
   "metadata": {},
   "source": [
    "## **Benchmarking Lookup Methods with time and random Libraries**\n",
    "\n",
    "In this section, I benchmark the performance of the get_laptop_from_id and get_laptop_from_id_fast methods, using Python's time and random libraries. The random library is used to generate a list of random laptop IDs, simulating various lookup operations. The time library is utilized to accurately measure the duration of each lookup, allowing for a precise comparison of the two methods.\n",
    "\n",
    "By measuring the total time taken to perform multiple lookups, I compare the efficiency of the standard ID-based lookup method against the fast dictionary-based lookup method. My expectations are that that by using the dictionary look up method (inventory.get_laptop_from_id_fast) I will see a marked objective decrease in the time needed to look up the 10,000 rows of data associated with the laptop id variable now being used as a key in the dictionary. "
   ]
  },
  {
   "cell_type": "code",
   "execution_count": 42,
   "metadata": {},
   "outputs": [
    {
     "name": "stdout",
     "output_type": "stream",
     "text": [
      "1.0883152484893799\n",
      "0.004715919494628906\n"
     ]
    }
   ],
   "source": [
    "import time                                                         \n",
    "import random                                                      \n",
    "\n",
    "random_numbers = [str(random.randint(1000000, 9999999)) for _ in range(10000)] \n",
    "\n",
    "inventory = Inventory('laptops.csv')                                \n",
    "\n",
    "total_time_no_dict = 0                                              \n",
    "for random_number in random_numbers:                                              \n",
    "    start = time.time()                                             \n",
    "    inventory.get_laptop_from_id(random_number)                        \n",
    "    end = time.time()                                              \n",
    "    total_time_no_dict += end - start                               \n",
    "    \n",
    "total_time_dict = 0                                                 \n",
    "for random_number in random_numbers:                                               \n",
    "    start = time.time()                                             \n",
    "    inventory.get_laptop_from_id_fast(random_number)                   \n",
    "    end = time.time()                                               \n",
    "    total_time_dict += end - start                                  \n",
    "    \n",
    "print(total_time_no_dict)                                           \n",
    "print(total_time_dict)"
   ]
  },
  {
   "cell_type": "markdown",
   "metadata": {},
   "source": [
    "### **Calculating the Performance Improvement Factor**\n",
    "Now that I have  I calculated the times taken for each model,  I calculate the performance improvement factor between the standard ID-based lookup method and the fast dictionary-based lookup method. By dividing the total time taken by the get_laptop_from_id method by the total time taken by the get_laptop_from_id_fast method, I can quantify the efficiency gained using the optimized dictionary based look up approach.\n",
    "\n",
    "We can see a significant improve in performance. If we divide total_time_no_dict (1.1017982959747314) by total_time_dict (0.0049016475677490234) we see that the new method is approximately 253 times faster (faster_factor) for this paerticular input size.\n",
    "\n",
    "This very significant differential confirms our time complexity analysis where we derive that the  get_laptop_from_id method has a time complexity of O(R), where R is the number of rows in the dataset. In contrast, the get_laptop_from_id_fast method achieves a time complexity of O(1), meaning it performs lookups in constant time. \n",
    "\n",
    "This significant improvement in lookup speed is achieved by using more memory to store the self.id_to_row dictionary even though it requires  additional time to create the dictionary during the initialization of the Inventory instance. \n"
   ]
  },
  {
   "cell_type": "code",
   "execution_count": 43,
   "metadata": {},
   "outputs": [
    {
     "name": "stdout",
     "output_type": "stream",
     "text": [
      "230.77477249747218\n"
     ]
    }
   ],
   "source": [
    "faster_factor = total_time_no_dict/ total_time_dict\n",
    "print(faster_factor)"
   ]
  },
  {
   "cell_type": "markdown",
   "metadata": {},
   "source": [
    "### **Coding Requirements for Gift Card Promotion**\n",
    "\n",
    "The next section of code is dedicated to addressing the theoretical Gift Card Promotion logistics. \n",
    "\n",
    "The will offer a promotion where customers receive a single-use gift card to buy up to two laptops. To ensure customer satisfaction, the entire value of the gift card must be utilized in one transaction. \n",
    "\n",
    "Before issuing a gift card worth x dollars I  will verify that it is possible to spend exactly x dollars by purchasing up to two laptops. This means either finding one laptop priced at  x dollars or two laptops whose combined price equals x  dollars. \n",
    "\n",
    "I define a function, (check_promotion_dollars) that given a dollar amount ('dollars'), checks whether it is possible to spend precisely ('dollars') dollars by purchasing up to two laptops. The check_promotion_dollars method employs a nested loop to check all possible pairs of laptops. This results in a time complexity of O(n^2), where n is the number of rows."
   ]
  },
  {
   "cell_type": "code",
   "execution_count": 44,
   "metadata": {},
   "outputs": [],
   "source": [
    "class Inventory():                    \n",
    "    \n",
    "    def __init__(self, csv_filename):\n",
    "        with open(csv_filename) as f: \n",
    "            reader = csv.reader(f)\n",
    "            rows = list(reader)\n",
    "        self.header = rows[0]        \n",
    "        self.rows = rows[1:]\n",
    "        for row in self.rows:              \n",
    "            row[-1] = int(row[-1])\n",
    "        self.id_to_row = {}                        \n",
    "        for row in self.rows:                       \n",
    "            self.id_to_row[row[0]] = row \n",
    "    \n",
    "    def get_laptop_from_id(self, laptop_id):\n",
    "        for row in self.rows:                 \n",
    "            if row[0] == laptop_id:\n",
    "                return row\n",
    "        return None   \n",
    "    \n",
    "    def get_laptop_from_id_fast(self, laptop_id):  \n",
    "        if laptop_id in self.id_to_row:           \n",
    "            return self.id_to_row[laptop_id]\n",
    "        return None\n",
    "\n",
    "    def check_promotion_dollars(self, dollars):    \n",
    "        for row in self.rows:                   \n",
    "            if row[-1] == dollars:\n",
    "                return True\n",
    "        for row1 in self.rows:                    \n",
    "            for row2 in self.rows:\n",
    "                if row1[-1] + row2[-1] == dollars:\n",
    "                    return True\n",
    "        return False                              "
   ]
  },
  {
   "cell_type": "markdown",
   "metadata": {},
   "source": [
    "I will now check the functionality of the check_promotion_dollars() by first giving 1000 (a valid dollar amount gleaned via inspection of the data) as an argument and printing the result. I expect a return of True (confirmed). \n",
    "I will then call check_promotion_dollars() by giving 442 (an invalid dollar amount gleaned via inspection of the data) as an argument and printing the result. I expect a return value of False (confirmed). "
   ]
  },
  {
   "cell_type": "code",
   "execution_count": 45,
   "metadata": {},
   "outputs": [
    {
     "name": "stdout",
     "output_type": "stream",
     "text": [
      "True\n",
      "False\n"
     ]
    }
   ],
   "source": [
    "inventory = Inventory('laptops.csv')              \n",
    "print(inventory.check_promotion_dollars(1000))     \n",
    "print(inventory.check_promotion_dollars(442))     "
   ]
  },
  {
   "cell_type": "markdown",
   "metadata": {},
   "source": [
    "### **Enhancing Performance with Set-Based Promotion Check**\n",
    "\n",
    "While the check_promotion_dollars method employs a nested loop to check all possible pairs of laptops, the check_promotion_dollars_fast method (code added below) leverages the efficiency of the set data structure to enhance performance.\n",
    "\n",
    "The check_promotion_dollars_fast method improves performance by using a set to store laptop prices. This method has a time complexity of O(n) (linear time complexity) due to the efficient O(1) (constant time complexity) average-time complexity for set membership checks. It first checks if the exact dollar amount exists in the set, then checks for pairs whose prices sum up to the given amount.\n",
    "\n"
   ]
  },
  {
   "cell_type": "code",
   "execution_count": 46,
   "metadata": {},
   "outputs": [],
   "source": [
    "class Inventory():                    \n",
    "    \n",
    "    def __init__(self, csv_filename):\n",
    "        with open(csv_filename) as f: \n",
    "            reader = csv.reader(f)\n",
    "            rows = list(reader)\n",
    "        self.header = rows[0]        \n",
    "        self.rows = rows[1:]\n",
    "        for row in self.rows:              \n",
    "            row[-1] = int(row[-1])\n",
    "        self.id_to_row = {}                        \n",
    "        for row in self.rows:                       \n",
    "            self.id_to_row[row[0]] = row\n",
    "        self.prices = set()                          \n",
    "        for row in self.rows:                        \n",
    "            self.prices.add(row[-1])\n",
    "    \n",
    "    def get_laptop_from_id(self, laptop_id):\n",
    "        for row in self.rows:                 \n",
    "            if row[0] == laptop_id:\n",
    "                return row\n",
    "        return None   \n",
    "    \n",
    "    def get_laptop_from_id_fast(self, laptop_id):  \n",
    "        if laptop_id in self.id_to_row:           \n",
    "            return self.id_to_row[laptop_id]\n",
    "        return None\n",
    "\n",
    "    def check_promotion_dollars(self, dollars):    \n",
    "        for row in self.rows:                   \n",
    "            if row[-1] == dollars:\n",
    "                return True\n",
    "        for row1 in self.rows:                  \n",
    "            for row2 in self.rows:\n",
    "                if row1[-1] + row2[-1] == dollars:\n",
    "                    return True\n",
    "        return False                        \n",
    "    \n",
    "    def check_promotion_dollars_fast(self, dollars): \n",
    "        if dollars in self.prices:                  \n",
    "            return True\n",
    "        for price in self.prices:                    \n",
    "            if dollars - price in self.prices:\n",
    "                return True\n",
    "        return False                                 "
   ]
  },
  {
   "cell_type": "markdown",
   "metadata": {},
   "source": [
    "I will now check the functionality of the check_promotion_dollars_fast() by first giving 1000 (a valid dollar amount gleaned via inspection of the data) as an argument and printing the result. I expect a return of True (confirmed). I will then call check_promotion_dollars_fast() by giving 442 (an invalid dollar amount gleaned via inspection of the data) as an argument and printing the result. I expect a return value of False (confirmed)."
   ]
  },
  {
   "cell_type": "code",
   "execution_count": 47,
   "metadata": {},
   "outputs": [
    {
     "name": "stdout",
     "output_type": "stream",
     "text": [
      "True\n",
      "False\n"
     ]
    }
   ],
   "source": [
    "inventory = Inventory('laptops.csv')                 \n",
    "print(inventory.check_promotion_dollars_fast(1000))  \n",
    "print(inventory.check_promotion_dollars_fast(442))   "
   ]
  },
  {
   "cell_type": "markdown",
   "metadata": {},
   "source": [
    "### **Benchmarking Promotion Check Methods**\n",
    "\n",
    "In this section, I benchmark the performance of the check_promotion_dollars and check_promotion_dollars_fast methods to compare their efficiency. By measuring the total time taken to perform multiple checks, I illustrate the impact of using a set to enhance performance.\n",
    "\n",
    "The prices list is populated with 100 random values to simulate various gift card amounts. The time library is utilized to accurately measure the duration of each check for both methods.\n",
    "\n"
   ]
  },
  {
   "cell_type": "code",
   "execution_count": 48,
   "metadata": {},
   "outputs": [
    {
     "name": "stdout",
     "output_type": "stream",
     "text": [
      "2.4141135215759277\n",
      "0.0008533000946044922\n"
     ]
    }
   ],
   "source": [
    "prices = [random.randint(100, 5000) for _ in range(100)] \n",
    "inventory = Inventory('laptops.csv')\n",
    "\n",
    "total_time_no_set = 0                                    \n",
    "for price in prices:                                     \n",
    "    start = time.time()                                 \n",
    "    inventory.check_promotion_dollars(price)             \n",
    "    end = time.time()                                    \n",
    "    total_time_no_set += end - start                     \n",
    "    \n",
    "total_time_set = 0                                      \n",
    "for price in prices:                                     \n",
    "    start = time.time()                                  \n",
    "    inventory.check_promotion_dollars_fast(price)        \n",
    "    end = time.time()                                    \n",
    "    total_time_set += end - start                        \n",
    "print(total_time_no_set)                                 \n",
    "print(total_time_set)\n"
   ]
  },
  {
   "cell_type": "markdown",
   "metadata": {},
   "source": [
    "We can see a significant improve in performance. If we divide total_time_no_set (1.819075345993042) by total_time_set (0.0007100105285644531) we see that the new method is about 2,562 times faster (faster_factor) for this input size. This benchmarking process highlights the performance benefits of using the set-based check_promotion_dollars_fast method over the standard check_promotion_dollars method."
   ]
  },
  {
   "cell_type": "code",
   "execution_count": 49,
   "metadata": {},
   "outputs": [
    {
     "name": "stdout",
     "output_type": "stream",
     "text": [
      "2829.149483095837\n"
     ]
    }
   ],
   "source": [
    "faster_factor = total_time_no_set/ total_time_set\n",
    "print(faster_factor)"
   ]
  },
  {
   "cell_type": "markdown",
   "metadata": {},
   "source": [
    "### **Utilizing Binary Search for Efficient Budget-Based Laptop Search**\n",
    "\n",
    "\n",
    "In this section, I introduce the find_first_laptop_more_expensive method, which leverages binary search to efficiently find laptops within a customer's budget. This method helps answer the next query chasllenge of given a budget of x dollars, find all laptops whose price is at most x dollars. \n",
    "\n",
    "Binary search is a powerful algorithm used to quickly find an element in a sorted list. By sorting laptops by price, we can use binary search to identify the first laptop in the sorted list with a price higher than \n",
    "x. Our binary search finds the first such laptop.  The return result will consist of all laptops whose index in the sorted list is smaller than the index of the first laptop whose price exceeds x dollars.\n",
    "\n",
    "If price is greater than target_price, it means the first laptop that is more expensive could be at this index or before it, so range_end is updated to range_middle. If price is less than or equal to target_price, it means the first more expensive laptop must be after this index, so range_start is updated to range_middle + 1.\n",
    "\n",
    "After the loop, a final check is performed to verify if the price at range_start is still less than or equal to target_price. If it is less than or equal to target_price it means there is no laptop more expensive than target_price in the list, and the function returns -1.\n",
    "\n",
    "If the price at range_start is greater than target_price, range_start is returned as the index of the first laptop more expensive than the given target price. If the price at range_start is greater than target_price, range_start is returned as the index of the first laptop more expensive than the given target price.\n",
    "\n",
    "This function leverages the efficiency of binary search to achieve this in O(log n) time complexity,"
   ]
  },
  {
   "cell_type": "markdown",
   "metadata": {},
   "source": [
    "To extend the functionality to take a range of prices (min_price and max_price) and find all laptops within that range, we can add a method to the Inventory class. This method will use binary search to efficiently find the starting and ending indices of the laptops within the specified price range."
   ]
  },
  {
   "cell_type": "code",
   "execution_count": 54,
   "metadata": {},
   "outputs": [],
   "source": [
    "def row_price(row):\n",
    "    return row[-1]\n",
    "\n",
    "class Inventory():                    \n",
    "    \n",
    "    def __init__(self, csv_filename):\n",
    "        with open(csv_filename) as f: \n",
    "            reader = csv.reader(f)\n",
    "            rows = list(reader)\n",
    "        self.header = rows[0]        \n",
    "        self.rows = rows[1:]\n",
    "        for row in self.rows:              \n",
    "            row[-1] = int(row[-1])\n",
    "        self.id_to_row = {}                        \n",
    "        for row in self.rows:                       \n",
    "            self.id_to_row[row[0]] = row\n",
    "        self.prices = set()                          \n",
    "        for row in self.rows:                        \n",
    "            self.prices.add(row[-1])\n",
    "        self.rows_by_price = sorted(self.rows, key=row_price) # Step 1\n",
    "    \n",
    "    def get_laptop_from_id(self, laptop_id):\n",
    "        for row in self.rows:                 \n",
    "            if row[0] == laptop_id:\n",
    "                return row\n",
    "        return None   \n",
    "    \n",
    "    def get_laptop_from_id_fast(self, laptop_id):  \n",
    "        if laptop_id in self.id_to_row:           \n",
    "            return self.id_to_row[laptop_id]\n",
    "        return None\n",
    "\n",
    "    def check_promotion_dollars(self, dollars):    \n",
    "        for row in self.rows:                   \n",
    "            if row[-1] == dollars:\n",
    "                return True\n",
    "        for row1 in self.rows:                  \n",
    "            for row2 in self.rows:\n",
    "                if row1[-1] + row2[-1] == dollars:\n",
    "                    return True\n",
    "        return False                        \n",
    "    \n",
    "    def check_promotion_dollars_fast(self, dollars):\n",
    "        if dollars in self.prices:                   \n",
    "            return True\n",
    "        for price in self.prices:                    \n",
    "            if dollars - price in self.prices:\n",
    "                return True\n",
    "        return False                                \n",
    "    \n",
    "    def find_laptop_with_price(self, target_price):\n",
    "        range_start = 0                                   \n",
    "        range_end = len(self.rows_by_price) - 1                       \n",
    "        while range_start < range_end:\n",
    "            range_middle = (range_end + range_start) // 2  \n",
    "            value = self.rows_by_price[range_middle][-1]\n",
    "            if value == target_price:                            \n",
    "                return range_middle                        \n",
    "            elif value < target_price:                           \n",
    "                range_start = range_middle + 1             \n",
    "            else:                                          \n",
    "                range_end = range_middle - 1 \n",
    "        if self.rows_by_price[range_start][-1] != target_price:                  \n",
    "            return -1                                      \n",
    "        return range_start\n",
    "    \n",
    "    def find_first_laptop_more_expensive(self, target_price): # Step 2\n",
    "        range_start = 0                                   \n",
    "        range_end = len(self.rows_by_price) - 1                   \n",
    "        while range_start < range_end:\n",
    "            range_middle = (range_end + range_start) // 2  \n",
    "            price = self.rows_by_price[range_middle][-1]\n",
    "            if price > target_price:\n",
    "                range_end = range_middle\n",
    "            else:\n",
    "                range_start = range_middle + 1\n",
    "        if self.rows_by_price[range_start][-1] <= target_price:                  \n",
    "            return -1                                   \n",
    "        return range_start\n"
   ]
  },
  {
   "cell_type": "markdown",
   "metadata": {},
   "source": [
    "### **Testing the find_first_laptop_more_expensive Method**\n",
    "\n",
    "In this section, I test the find_first_laptop_more_expensive method of the Inventory class to verify its functionality. This method uses binary search to efficiently find the first laptop in the sorted inventory that has a price higher than a specified target price. The results demonstrate how the method performs with different budget constraints.\n",
    "\n",
    "In the first test case, the find_first_laptop_more_expensive method is called with a target price of $1,000. This results in a return of 683 (index 683) which is the index of the first laptop that is more expensive than the given target price. \n",
    "\n",
    "In the second test case, the method is called with a out of range target price of $10,000. This test checks if the method can handle out of range budget constraints and return the appropriate index which is -1. If the condition is true, it means that there is no laptop in the list that is more expensive than target_price. \n",
    "\n",
    "\n",
    "These tests help verify that the find_first_laptop_more_expensive method accurately identifies the position of the first laptop exceeding the given price, showcasing its utility for budget-based queries."
   ]
  },
  {
   "cell_type": "code",
   "execution_count": 55,
   "metadata": {
    "scrolled": true
   },
   "outputs": [
    {
     "name": "stdout",
     "output_type": "stream",
     "text": [
      "683\n",
      "-1\n"
     ]
    }
   ],
   "source": [
    "inventory = Inventory('laptops.csv')                              \n",
    "print(inventory.find_first_laptop_more_expensive(1000))  \n",
    "print(inventory.find_first_laptop_more_expensive(10000)) "
   ]
  },
  {
   "cell_type": "markdown",
   "metadata": {},
   "source": [
    "### **Conclusion**\n",
    "\n",
    "The main objective of this project was to demonstrate the ability to understand and implement advanced data engineering techniques to optimize both time and memory efficiency. By leveraging efficient data structures and algorithms such as dictionaries, sets, and binary search, the project aimed to handle large datasets effectively and efficiently. These techniques ensured swift data retrieval and processing operations, significantly reducing computational time and memory usage.\n",
    "\n",
    "The results of the project clearly show significant improvements in performance. The optimized dictionary-based lookup method was approximately 253 times faster than the standard method, and the set-based promotion check method was approximately 2,562 times faster than its standard counterpart. Additionally, the binary search implementation for budget-based queries effectively identified the first laptop exceeding a given price, confirming its utility and efficiency. Overall, the project successfully highlighted the substantial benefits of using advanced data engineering techniques for large-scale data handling.\n",
    "\n",
    "In today's era of big data and AI, time and memory efficiency are crucial. Efficient data processing allows for faster insights and decision-making, enabling businesses to stay competitive and innovative. Memory-efficient algorithms ensure that even large datasets can be managed and analyzed without overwhelming system resources. These optimizations are fundamental in advancing the capabilities of data-driven technologies and applications.\n",
    "\n",
    "\n",
    "\n",
    "\n",
    "\n",
    "\n",
    "\n",
    "\n"
   ]
  },
  {
   "cell_type": "code",
   "execution_count": null,
   "metadata": {},
   "outputs": [],
   "source": []
  }
 ],
 "metadata": {
  "kernelspec": {
   "display_name": "Python 3",
   "language": "python",
   "name": "python3"
  },
  "language_info": {
   "codemirror_mode": {
    "name": "ipython",
    "version": 3
   },
   "file_extension": ".py",
   "mimetype": "text/x-python",
   "name": "python",
   "nbconvert_exporter": "python",
   "pygments_lexer": "ipython3",
   "version": "3.8.2"
  }
 },
 "nbformat": 4,
 "nbformat_minor": 2
}
